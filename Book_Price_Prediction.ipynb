{
 "cells": [
  {
   "cell_type": "markdown",
   "id": "43211fff",
   "metadata": {},
   "source": [
    "<center><h3>Predict The Price of Books</h3></center>"
   ]
  },
  {
   "cell_type": "markdown",
   "id": "daada60a",
   "metadata": {},
   "source": [
    "### Load all libraries"
   ]
  },
  {
   "cell_type": "code",
   "execution_count": 1,
   "id": "f351e5c8",
   "metadata": {},
   "outputs": [],
   "source": [
    "import numpy as np\n",
    "import pandas as pd\n",
    "import matplotlib.pyplot as plt\n",
    "import seaborn as sns\n",
    "from sklearn.preprocessing import scale\n",
    "from sklearn.decomposition import PCA\n",
    "from sklearn.preprocessing import LabelEncoder as le ,MinMaxScaler, RobustScaler, StandardScaler\n",
    "from sklearn.metrics import mean_squared_error\n",
    "from lightgbm import LGBMRegressor\n",
    "import math\n",
    "import sklearn\n",
    "from sklearn.model_selection import train_test_split\n",
    "from sklearn.ensemble import RandomForestRegressor, AdaBoostRegressor, GradientBoostingRegressor, ExtraTreesRegressor, VotingRegressor\n",
    "from sklearn.linear_model import LinearRegression\n",
    "from sklearn.tree import DecisionTreeRegressor\n",
    "from sklearn.model_selection import GridSearchCV,RandomizedSearchCV, cross_val_score, KFold, learning_curve\n",
    "import warnings\n",
    "warnings.filterwarnings('ignore')\n",
    "import matplotlib.pyplot as plt"
   ]
  },
  {
   "cell_type": "markdown",
   "id": "89e91e35",
   "metadata": {},
   "source": [
    "## Load Dataset"
   ]
  },
  {
   "cell_type": "code",
   "execution_count": 2,
   "id": "d6c50eae",
   "metadata": {},
   "outputs": [
    {
     "data": {
      "text/html": [
       "<div>\n",
       "<style scoped>\n",
       "    .dataframe tbody tr th:only-of-type {\n",
       "        vertical-align: middle;\n",
       "    }\n",
       "\n",
       "    .dataframe tbody tr th {\n",
       "        vertical-align: top;\n",
       "    }\n",
       "\n",
       "    .dataframe thead th {\n",
       "        text-align: right;\n",
       "    }\n",
       "</style>\n",
       "<table border=\"1\" class=\"dataframe\">\n",
       "  <thead>\n",
       "    <tr style=\"text-align: right;\">\n",
       "      <th></th>\n",
       "      <th>Title</th>\n",
       "      <th>Author</th>\n",
       "      <th>Edition</th>\n",
       "      <th>Reviews</th>\n",
       "      <th>Ratings</th>\n",
       "      <th>Synopsis</th>\n",
       "      <th>Genre</th>\n",
       "      <th>BookCategory</th>\n",
       "      <th>Price</th>\n",
       "    </tr>\n",
       "  </thead>\n",
       "  <tbody>\n",
       "    <tr>\n",
       "      <th>0</th>\n",
       "      <td>The Prisoner's Gold (The Hunters 3)</td>\n",
       "      <td>Chris Kuzneski</td>\n",
       "      <td>Paperback,– 10 Mar 2016</td>\n",
       "      <td>4.0 out of 5 stars</td>\n",
       "      <td>8 customer reviews</td>\n",
       "      <td>THE HUNTERS return in their third brilliant no...</td>\n",
       "      <td>Action &amp; Adventure (Books)</td>\n",
       "      <td>Action &amp; Adventure</td>\n",
       "      <td>220.00</td>\n",
       "    </tr>\n",
       "    <tr>\n",
       "      <th>1</th>\n",
       "      <td>Guru Dutt: A Tragedy in Three Acts</td>\n",
       "      <td>Arun Khopkar</td>\n",
       "      <td>Paperback,– 7 Nov 2012</td>\n",
       "      <td>3.9 out of 5 stars</td>\n",
       "      <td>14 customer reviews</td>\n",
       "      <td>A layered portrait of a troubled genius for wh...</td>\n",
       "      <td>Cinema &amp; Broadcast (Books)</td>\n",
       "      <td>Biographies, Diaries &amp; True Accounts</td>\n",
       "      <td>202.93</td>\n",
       "    </tr>\n",
       "    <tr>\n",
       "      <th>2</th>\n",
       "      <td>Leviathan (Penguin Classics)</td>\n",
       "      <td>Thomas Hobbes</td>\n",
       "      <td>Paperback,– 25 Feb 1982</td>\n",
       "      <td>4.8 out of 5 stars</td>\n",
       "      <td>6 customer reviews</td>\n",
       "      <td>\"During the time men live without a common Pow...</td>\n",
       "      <td>International Relations</td>\n",
       "      <td>Humour</td>\n",
       "      <td>299.00</td>\n",
       "    </tr>\n",
       "    <tr>\n",
       "      <th>3</th>\n",
       "      <td>A Pocket Full of Rye (Miss Marple)</td>\n",
       "      <td>Agatha Christie</td>\n",
       "      <td>Paperback,– 5 Oct 2017</td>\n",
       "      <td>4.1 out of 5 stars</td>\n",
       "      <td>13 customer reviews</td>\n",
       "      <td>A handful of grain is found in the pocket of a...</td>\n",
       "      <td>Contemporary Fiction (Books)</td>\n",
       "      <td>Crime, Thriller &amp; Mystery</td>\n",
       "      <td>180.00</td>\n",
       "    </tr>\n",
       "    <tr>\n",
       "      <th>4</th>\n",
       "      <td>LIFE 70 Years of Extraordinary Photography</td>\n",
       "      <td>Editors of Life</td>\n",
       "      <td>Hardcover,– 10 Oct 2006</td>\n",
       "      <td>5.0 out of 5 stars</td>\n",
       "      <td>1 customer review</td>\n",
       "      <td>For seven decades, \"Life\" has been thrilling t...</td>\n",
       "      <td>Photography Textbooks</td>\n",
       "      <td>Arts, Film &amp; Photography</td>\n",
       "      <td>965.62</td>\n",
       "    </tr>\n",
       "  </tbody>\n",
       "</table>\n",
       "</div>"
      ],
      "text/plain": [
       "                                        Title           Author  \\\n",
       "0         The Prisoner's Gold (The Hunters 3)   Chris Kuzneski   \n",
       "1          Guru Dutt: A Tragedy in Three Acts     Arun Khopkar   \n",
       "2                Leviathan (Penguin Classics)    Thomas Hobbes   \n",
       "3          A Pocket Full of Rye (Miss Marple)  Agatha Christie   \n",
       "4  LIFE 70 Years of Extraordinary Photography  Editors of Life   \n",
       "\n",
       "                   Edition             Reviews              Ratings  \\\n",
       "0  Paperback,– 10 Mar 2016  4.0 out of 5 stars   8 customer reviews   \n",
       "1   Paperback,– 7 Nov 2012  3.9 out of 5 stars  14 customer reviews   \n",
       "2  Paperback,– 25 Feb 1982  4.8 out of 5 stars   6 customer reviews   \n",
       "3   Paperback,– 5 Oct 2017  4.1 out of 5 stars  13 customer reviews   \n",
       "4  Hardcover,– 10 Oct 2006  5.0 out of 5 stars    1 customer review   \n",
       "\n",
       "                                            Synopsis  \\\n",
       "0  THE HUNTERS return in their third brilliant no...   \n",
       "1  A layered portrait of a troubled genius for wh...   \n",
       "2  \"During the time men live without a common Pow...   \n",
       "3  A handful of grain is found in the pocket of a...   \n",
       "4  For seven decades, \"Life\" has been thrilling t...   \n",
       "\n",
       "                          Genre                          BookCategory   Price  \n",
       "0    Action & Adventure (Books)                    Action & Adventure  220.00  \n",
       "1    Cinema & Broadcast (Books)  Biographies, Diaries & True Accounts  202.93  \n",
       "2       International Relations                                Humour  299.00  \n",
       "3  Contemporary Fiction (Books)             Crime, Thriller & Mystery  180.00  \n",
       "4         Photography Textbooks              Arts, Film & Photography  965.62  "
      ]
     },
     "execution_count": 2,
     "metadata": {},
     "output_type": "execute_result"
    }
   ],
   "source": [
    "train = pd.read_excel(r\"C:\\Users\\ashok\\Data\\Participants_Data\\Data_Train.xlsx\")\n",
    "train.head()"
   ]
  },
  {
   "cell_type": "code",
   "execution_count": 3,
   "id": "7fb8fdb0",
   "metadata": {},
   "outputs": [
    {
     "data": {
      "text/html": [
       "<div>\n",
       "<style scoped>\n",
       "    .dataframe tbody tr th:only-of-type {\n",
       "        vertical-align: middle;\n",
       "    }\n",
       "\n",
       "    .dataframe tbody tr th {\n",
       "        vertical-align: top;\n",
       "    }\n",
       "\n",
       "    .dataframe thead th {\n",
       "        text-align: right;\n",
       "    }\n",
       "</style>\n",
       "<table border=\"1\" class=\"dataframe\">\n",
       "  <thead>\n",
       "    <tr style=\"text-align: right;\">\n",
       "      <th></th>\n",
       "      <th>Title</th>\n",
       "      <th>Author</th>\n",
       "      <th>Edition</th>\n",
       "      <th>Reviews</th>\n",
       "      <th>Ratings</th>\n",
       "      <th>Synopsis</th>\n",
       "      <th>Genre</th>\n",
       "      <th>BookCategory</th>\n",
       "    </tr>\n",
       "  </thead>\n",
       "  <tbody>\n",
       "    <tr>\n",
       "      <th>0</th>\n",
       "      <td>The Complete Sherlock Holmes: 2 Boxes sets</td>\n",
       "      <td>Sir Arthur Conan Doyle</td>\n",
       "      <td>Mass Market Paperback,– 1 Oct 1986</td>\n",
       "      <td>4.4 out of 5 stars</td>\n",
       "      <td>960 customer reviews</td>\n",
       "      <td>A collection of entire body of work of the She...</td>\n",
       "      <td>Short Stories (Books)</td>\n",
       "      <td>Crime, Thriller &amp; Mystery</td>\n",
       "    </tr>\n",
       "    <tr>\n",
       "      <th>1</th>\n",
       "      <td>Learn Docker - Fundamentals of Docker 18.x: Ev...</td>\n",
       "      <td>Gabriel N. Schenker</td>\n",
       "      <td>Paperback,– Import, 26 Apr 2018</td>\n",
       "      <td>5.0 out of 5 stars</td>\n",
       "      <td>1 customer review</td>\n",
       "      <td>Enhance your software deployment workflow usin...</td>\n",
       "      <td>Operating Systems Textbooks</td>\n",
       "      <td>Computing, Internet &amp; Digital Media</td>\n",
       "    </tr>\n",
       "    <tr>\n",
       "      <th>2</th>\n",
       "      <td>Big Girl</td>\n",
       "      <td>Danielle Steel</td>\n",
       "      <td>Paperback,– 17 Mar 2011</td>\n",
       "      <td>5.0 out of 5 stars</td>\n",
       "      <td>4 customer reviews</td>\n",
       "      <td>'Watch out, world. Here I come!'\\nFor Victoria...</td>\n",
       "      <td>Romance (Books)</td>\n",
       "      <td>Romance</td>\n",
       "    </tr>\n",
       "    <tr>\n",
       "      <th>3</th>\n",
       "      <td>Think Python: How to Think Like a Computer Sci...</td>\n",
       "      <td>Allen B. Downey</td>\n",
       "      <td>Paperback,– 2016</td>\n",
       "      <td>4.1 out of 5 stars</td>\n",
       "      <td>11 customer reviews</td>\n",
       "      <td>If you want to learn how to program, working w...</td>\n",
       "      <td>Programming &amp; Software Development (Books)</td>\n",
       "      <td>Computing, Internet &amp; Digital Media</td>\n",
       "    </tr>\n",
       "    <tr>\n",
       "      <th>4</th>\n",
       "      <td>Oxford Word Skills: Advanced - Idioms &amp; Phrasa...</td>\n",
       "      <td>Redman Gairns</td>\n",
       "      <td>Paperback,– 26 Dec 2011</td>\n",
       "      <td>4.4 out of 5 stars</td>\n",
       "      <td>9 customer reviews</td>\n",
       "      <td>Learn and practise the verbs, prepositions and...</td>\n",
       "      <td>Linguistics (Books)</td>\n",
       "      <td>Language, Linguistics &amp; Writing</td>\n",
       "    </tr>\n",
       "  </tbody>\n",
       "</table>\n",
       "</div>"
      ],
      "text/plain": [
       "                                               Title                  Author  \\\n",
       "0         The Complete Sherlock Holmes: 2 Boxes sets  Sir Arthur Conan Doyle   \n",
       "1  Learn Docker - Fundamentals of Docker 18.x: Ev...     Gabriel N. Schenker   \n",
       "2                                           Big Girl          Danielle Steel   \n",
       "3  Think Python: How to Think Like a Computer Sci...         Allen B. Downey   \n",
       "4  Oxford Word Skills: Advanced - Idioms & Phrasa...           Redman Gairns   \n",
       "\n",
       "                              Edition             Reviews  \\\n",
       "0  Mass Market Paperback,– 1 Oct 1986  4.4 out of 5 stars   \n",
       "1     Paperback,– Import, 26 Apr 2018  5.0 out of 5 stars   \n",
       "2             Paperback,– 17 Mar 2011  5.0 out of 5 stars   \n",
       "3                    Paperback,– 2016  4.1 out of 5 stars   \n",
       "4             Paperback,– 26 Dec 2011  4.4 out of 5 stars   \n",
       "\n",
       "                Ratings                                           Synopsis  \\\n",
       "0  960 customer reviews  A collection of entire body of work of the She...   \n",
       "1     1 customer review  Enhance your software deployment workflow usin...   \n",
       "2    4 customer reviews  'Watch out, world. Here I come!'\\nFor Victoria...   \n",
       "3   11 customer reviews  If you want to learn how to program, working w...   \n",
       "4    9 customer reviews  Learn and practise the verbs, prepositions and...   \n",
       "\n",
       "                                        Genre  \\\n",
       "0                       Short Stories (Books)   \n",
       "1                 Operating Systems Textbooks   \n",
       "2                             Romance (Books)   \n",
       "3  Programming & Software Development (Books)   \n",
       "4                         Linguistics (Books)   \n",
       "\n",
       "                          BookCategory  \n",
       "0            Crime, Thriller & Mystery  \n",
       "1  Computing, Internet & Digital Media  \n",
       "2                              Romance  \n",
       "3  Computing, Internet & Digital Media  \n",
       "4      Language, Linguistics & Writing  "
      ]
     },
     "execution_count": 3,
     "metadata": {},
     "output_type": "execute_result"
    }
   ],
   "source": [
    "test = pd.read_excel(r\"C:\\Users\\ashok\\Data\\Participants_Data\\Data_Test.xlsx\")\n",
    "test.head()"
   ]
  },
  {
   "cell_type": "code",
   "execution_count": 4,
   "id": "0745ab97",
   "metadata": {},
   "outputs": [
    {
     "name": "stdout",
     "output_type": "stream",
     "text": [
      "Train data contains 6237 rows and 9 columns\n",
      "Test data contains 1560 rows and 8 columns\n"
     ]
    }
   ],
   "source": [
    "print('Train data contains', train.shape[0], 'rows and', train.shape[1], 'columns')\n",
    "print('Test data contains', test.shape[0], 'rows and', test.shape[1], 'columns')"
   ]
  },
  {
   "cell_type": "markdown",
   "id": "f65716e7",
   "metadata": {},
   "source": [
    "## Merging both the datasets for EDA"
   ]
  },
  {
   "cell_type": "code",
   "execution_count": 5,
   "id": "09841288",
   "metadata": {},
   "outputs": [],
   "source": [
    "df = pd.concat([test.assign(ind=\"test\"), train.assign(ind=\"train\")])"
   ]
  },
  {
   "cell_type": "code",
   "execution_count": 6,
   "id": "27c5d940",
   "metadata": {},
   "outputs": [
    {
     "data": {
      "text/html": [
       "<div>\n",
       "<style scoped>\n",
       "    .dataframe tbody tr th:only-of-type {\n",
       "        vertical-align: middle;\n",
       "    }\n",
       "\n",
       "    .dataframe tbody tr th {\n",
       "        vertical-align: top;\n",
       "    }\n",
       "\n",
       "    .dataframe thead th {\n",
       "        text-align: right;\n",
       "    }\n",
       "</style>\n",
       "<table border=\"1\" class=\"dataframe\">\n",
       "  <thead>\n",
       "    <tr style=\"text-align: right;\">\n",
       "      <th></th>\n",
       "      <th>Title</th>\n",
       "      <th>Author</th>\n",
       "      <th>Edition</th>\n",
       "      <th>Reviews</th>\n",
       "      <th>Ratings</th>\n",
       "      <th>Synopsis</th>\n",
       "      <th>Genre</th>\n",
       "      <th>BookCategory</th>\n",
       "      <th>ind</th>\n",
       "      <th>Price</th>\n",
       "    </tr>\n",
       "  </thead>\n",
       "  <tbody>\n",
       "    <tr>\n",
       "      <th>0</th>\n",
       "      <td>The Complete Sherlock Holmes: 2 Boxes sets</td>\n",
       "      <td>Sir Arthur Conan Doyle</td>\n",
       "      <td>Mass Market Paperback,– 1 Oct 1986</td>\n",
       "      <td>4.4 out of 5 stars</td>\n",
       "      <td>960 customer reviews</td>\n",
       "      <td>A collection of entire body of work of the She...</td>\n",
       "      <td>Short Stories (Books)</td>\n",
       "      <td>Crime, Thriller &amp; Mystery</td>\n",
       "      <td>test</td>\n",
       "      <td>NaN</td>\n",
       "    </tr>\n",
       "    <tr>\n",
       "      <th>1</th>\n",
       "      <td>Learn Docker - Fundamentals of Docker 18.x: Ev...</td>\n",
       "      <td>Gabriel N. Schenker</td>\n",
       "      <td>Paperback,– Import, 26 Apr 2018</td>\n",
       "      <td>5.0 out of 5 stars</td>\n",
       "      <td>1 customer review</td>\n",
       "      <td>Enhance your software deployment workflow usin...</td>\n",
       "      <td>Operating Systems Textbooks</td>\n",
       "      <td>Computing, Internet &amp; Digital Media</td>\n",
       "      <td>test</td>\n",
       "      <td>NaN</td>\n",
       "    </tr>\n",
       "    <tr>\n",
       "      <th>2</th>\n",
       "      <td>Big Girl</td>\n",
       "      <td>Danielle Steel</td>\n",
       "      <td>Paperback,– 17 Mar 2011</td>\n",
       "      <td>5.0 out of 5 stars</td>\n",
       "      <td>4 customer reviews</td>\n",
       "      <td>'Watch out, world. Here I come!'\\nFor Victoria...</td>\n",
       "      <td>Romance (Books)</td>\n",
       "      <td>Romance</td>\n",
       "      <td>test</td>\n",
       "      <td>NaN</td>\n",
       "    </tr>\n",
       "    <tr>\n",
       "      <th>3</th>\n",
       "      <td>Think Python: How to Think Like a Computer Sci...</td>\n",
       "      <td>Allen B. Downey</td>\n",
       "      <td>Paperback,– 2016</td>\n",
       "      <td>4.1 out of 5 stars</td>\n",
       "      <td>11 customer reviews</td>\n",
       "      <td>If you want to learn how to program, working w...</td>\n",
       "      <td>Programming &amp; Software Development (Books)</td>\n",
       "      <td>Computing, Internet &amp; Digital Media</td>\n",
       "      <td>test</td>\n",
       "      <td>NaN</td>\n",
       "    </tr>\n",
       "    <tr>\n",
       "      <th>4</th>\n",
       "      <td>Oxford Word Skills: Advanced - Idioms &amp; Phrasa...</td>\n",
       "      <td>Redman Gairns</td>\n",
       "      <td>Paperback,– 26 Dec 2011</td>\n",
       "      <td>4.4 out of 5 stars</td>\n",
       "      <td>9 customer reviews</td>\n",
       "      <td>Learn and practise the verbs, prepositions and...</td>\n",
       "      <td>Linguistics (Books)</td>\n",
       "      <td>Language, Linguistics &amp; Writing</td>\n",
       "      <td>test</td>\n",
       "      <td>NaN</td>\n",
       "    </tr>\n",
       "    <tr>\n",
       "      <th>...</th>\n",
       "      <td>...</td>\n",
       "      <td>...</td>\n",
       "      <td>...</td>\n",
       "      <td>...</td>\n",
       "      <td>...</td>\n",
       "      <td>...</td>\n",
       "      <td>...</td>\n",
       "      <td>...</td>\n",
       "      <td>...</td>\n",
       "      <td>...</td>\n",
       "    </tr>\n",
       "    <tr>\n",
       "      <th>6232</th>\n",
       "      <td>Humans: A Brief History of How We F*cked It Al...</td>\n",
       "      <td>Tom Phillips</td>\n",
       "      <td>Paperback,– 8 Aug 2018</td>\n",
       "      <td>5.0 out of 5 stars</td>\n",
       "      <td>2 customer reviews</td>\n",
       "      <td>'F*cking brilliant' Sarah Knight\\n'Very funny'...</td>\n",
       "      <td>Anthropology (Books)</td>\n",
       "      <td>Humour</td>\n",
       "      <td>train</td>\n",
       "      <td>322.0</td>\n",
       "    </tr>\n",
       "    <tr>\n",
       "      <th>6233</th>\n",
       "      <td>The Chemist</td>\n",
       "      <td>Stephenie Meyer</td>\n",
       "      <td>Paperback,– 21 Nov 2016</td>\n",
       "      <td>3.3 out of 5 stars</td>\n",
       "      <td>9 customer reviews</td>\n",
       "      <td>In this gripping page-turner, an ex-agent on t...</td>\n",
       "      <td>Contemporary Fiction (Books)</td>\n",
       "      <td>Crime, Thriller &amp; Mystery</td>\n",
       "      <td>train</td>\n",
       "      <td>421.0</td>\n",
       "    </tr>\n",
       "    <tr>\n",
       "      <th>6234</th>\n",
       "      <td>The Duke And I: Number 1 in series (Bridgerton...</td>\n",
       "      <td>Julia Quinn</td>\n",
       "      <td>Paperback,– 8 Jun 2006</td>\n",
       "      <td>3.8 out of 5 stars</td>\n",
       "      <td>3 customer reviews</td>\n",
       "      <td>'The most refreshing and radiant love story yo...</td>\n",
       "      <td>Romance (Books)</td>\n",
       "      <td>Romance</td>\n",
       "      <td>train</td>\n",
       "      <td>399.0</td>\n",
       "    </tr>\n",
       "    <tr>\n",
       "      <th>6235</th>\n",
       "      <td>Frostfire (Kanin Chronicles)</td>\n",
       "      <td>Amanda Hocking</td>\n",
       "      <td>Paperback,– 15 Jan 2015</td>\n",
       "      <td>3.5 out of 5 stars</td>\n",
       "      <td>4 customer reviews</td>\n",
       "      <td>Frostfire by Amanda Hocking is the stunning fi...</td>\n",
       "      <td>Action &amp; Adventure (Books)</td>\n",
       "      <td>Action &amp; Adventure</td>\n",
       "      <td>train</td>\n",
       "      <td>319.0</td>\n",
       "    </tr>\n",
       "    <tr>\n",
       "      <th>6236</th>\n",
       "      <td>The First Order (Sam Capra)</td>\n",
       "      <td>Jeff Abbott</td>\n",
       "      <td>Paperback,– 21 Dec 2016</td>\n",
       "      <td>3.9 out of 5 stars</td>\n",
       "      <td>2 customer reviews</td>\n",
       "      <td>Six years ago, Sam Capra watched his brother, ...</td>\n",
       "      <td>Action &amp; Adventure (Books)</td>\n",
       "      <td>Action &amp; Adventure</td>\n",
       "      <td>train</td>\n",
       "      <td>452.0</td>\n",
       "    </tr>\n",
       "  </tbody>\n",
       "</table>\n",
       "<p>7797 rows × 10 columns</p>\n",
       "</div>"
      ],
      "text/plain": [
       "                                                  Title  \\\n",
       "0            The Complete Sherlock Holmes: 2 Boxes sets   \n",
       "1     Learn Docker - Fundamentals of Docker 18.x: Ev...   \n",
       "2                                              Big Girl   \n",
       "3     Think Python: How to Think Like a Computer Sci...   \n",
       "4     Oxford Word Skills: Advanced - Idioms & Phrasa...   \n",
       "...                                                 ...   \n",
       "6232  Humans: A Brief History of How We F*cked It Al...   \n",
       "6233                                        The Chemist   \n",
       "6234  The Duke And I: Number 1 in series (Bridgerton...   \n",
       "6235                       Frostfire (Kanin Chronicles)   \n",
       "6236                        The First Order (Sam Capra)   \n",
       "\n",
       "                      Author                             Edition  \\\n",
       "0     Sir Arthur Conan Doyle  Mass Market Paperback,– 1 Oct 1986   \n",
       "1        Gabriel N. Schenker     Paperback,– Import, 26 Apr 2018   \n",
       "2             Danielle Steel             Paperback,– 17 Mar 2011   \n",
       "3            Allen B. Downey                    Paperback,– 2016   \n",
       "4              Redman Gairns             Paperback,– 26 Dec 2011   \n",
       "...                      ...                                 ...   \n",
       "6232            Tom Phillips              Paperback,– 8 Aug 2018   \n",
       "6233         Stephenie Meyer             Paperback,– 21 Nov 2016   \n",
       "6234             Julia Quinn              Paperback,– 8 Jun 2006   \n",
       "6235          Amanda Hocking             Paperback,– 15 Jan 2015   \n",
       "6236             Jeff Abbott             Paperback,– 21 Dec 2016   \n",
       "\n",
       "                 Reviews               Ratings  \\\n",
       "0     4.4 out of 5 stars  960 customer reviews   \n",
       "1     5.0 out of 5 stars     1 customer review   \n",
       "2     5.0 out of 5 stars    4 customer reviews   \n",
       "3     4.1 out of 5 stars   11 customer reviews   \n",
       "4     4.4 out of 5 stars    9 customer reviews   \n",
       "...                  ...                   ...   \n",
       "6232  5.0 out of 5 stars    2 customer reviews   \n",
       "6233  3.3 out of 5 stars    9 customer reviews   \n",
       "6234  3.8 out of 5 stars    3 customer reviews   \n",
       "6235  3.5 out of 5 stars    4 customer reviews   \n",
       "6236  3.9 out of 5 stars    2 customer reviews   \n",
       "\n",
       "                                               Synopsis  \\\n",
       "0     A collection of entire body of work of the She...   \n",
       "1     Enhance your software deployment workflow usin...   \n",
       "2     'Watch out, world. Here I come!'\\nFor Victoria...   \n",
       "3     If you want to learn how to program, working w...   \n",
       "4     Learn and practise the verbs, prepositions and...   \n",
       "...                                                 ...   \n",
       "6232  'F*cking brilliant' Sarah Knight\\n'Very funny'...   \n",
       "6233  In this gripping page-turner, an ex-agent on t...   \n",
       "6234  'The most refreshing and radiant love story yo...   \n",
       "6235  Frostfire by Amanda Hocking is the stunning fi...   \n",
       "6236  Six years ago, Sam Capra watched his brother, ...   \n",
       "\n",
       "                                           Genre  \\\n",
       "0                          Short Stories (Books)   \n",
       "1                    Operating Systems Textbooks   \n",
       "2                                Romance (Books)   \n",
       "3     Programming & Software Development (Books)   \n",
       "4                            Linguistics (Books)   \n",
       "...                                          ...   \n",
       "6232                        Anthropology (Books)   \n",
       "6233                Contemporary Fiction (Books)   \n",
       "6234                             Romance (Books)   \n",
       "6235                  Action & Adventure (Books)   \n",
       "6236                  Action & Adventure (Books)   \n",
       "\n",
       "                             BookCategory    ind  Price  \n",
       "0               Crime, Thriller & Mystery   test    NaN  \n",
       "1     Computing, Internet & Digital Media   test    NaN  \n",
       "2                                 Romance   test    NaN  \n",
       "3     Computing, Internet & Digital Media   test    NaN  \n",
       "4         Language, Linguistics & Writing   test    NaN  \n",
       "...                                   ...    ...    ...  \n",
       "6232                               Humour  train  322.0  \n",
       "6233            Crime, Thriller & Mystery  train  421.0  \n",
       "6234                              Romance  train  399.0  \n",
       "6235                   Action & Adventure  train  319.0  \n",
       "6236                   Action & Adventure  train  452.0  \n",
       "\n",
       "[7797 rows x 10 columns]"
      ]
     },
     "execution_count": 6,
     "metadata": {},
     "output_type": "execute_result"
    }
   ],
   "source": [
    "df"
   ]
  },
  {
   "cell_type": "markdown",
   "id": "ed1937a5",
   "metadata": {},
   "source": [
    "## Basic Dataset information"
   ]
  },
  {
   "cell_type": "code",
   "execution_count": 7,
   "id": "86d4a2c0",
   "metadata": {},
   "outputs": [
    {
     "data": {
      "text/plain": [
       "(7797, 10)"
      ]
     },
     "execution_count": 7,
     "metadata": {},
     "output_type": "execute_result"
    }
   ],
   "source": [
    "df.shape"
   ]
  },
  {
   "cell_type": "code",
   "execution_count": 8,
   "id": "99e63af4",
   "metadata": {},
   "outputs": [
    {
     "name": "stdout",
     "output_type": "stream",
     "text": [
      "<class 'pandas.core.frame.DataFrame'>\n",
      "Int64Index: 7797 entries, 0 to 6236\n",
      "Data columns (total 10 columns):\n",
      " #   Column        Non-Null Count  Dtype  \n",
      "---  ------        --------------  -----  \n",
      " 0   Title         7797 non-null   object \n",
      " 1   Author        7797 non-null   object \n",
      " 2   Edition       7797 non-null   object \n",
      " 3   Reviews       7797 non-null   object \n",
      " 4   Ratings       7797 non-null   object \n",
      " 5   Synopsis      7797 non-null   object \n",
      " 6   Genre         7797 non-null   object \n",
      " 7   BookCategory  7797 non-null   object \n",
      " 8   ind           7797 non-null   object \n",
      " 9   Price         6237 non-null   float64\n",
      "dtypes: float64(1), object(9)\n",
      "memory usage: 670.1+ KB\n"
     ]
    }
   ],
   "source": [
    "df.info()"
   ]
  },
  {
   "cell_type": "code",
   "execution_count": 9,
   "id": "37050514",
   "metadata": {},
   "outputs": [
    {
     "name": "stdout",
     "output_type": "stream",
     "text": [
      "['Title', 'Author', 'Edition', 'Reviews', 'Ratings', 'Synopsis', 'Genre', 'BookCategory', 'ind']\n",
      "['Price']\n"
     ]
    }
   ],
   "source": [
    "cat_cols = df.select_dtypes(include=['object','category']).columns.tolist()\n",
    "print(cat_cols)\n",
    "\n",
    "num_cols = df.select_dtypes(include=['int64','float64']).columns.tolist()\n",
    "print(num_cols)"
   ]
  },
  {
   "cell_type": "code",
   "execution_count": 10,
   "id": "dfe68fce",
   "metadata": {},
   "outputs": [
    {
     "data": {
      "text/html": [
       "<div>\n",
       "<style scoped>\n",
       "    .dataframe tbody tr th:only-of-type {\n",
       "        vertical-align: middle;\n",
       "    }\n",
       "\n",
       "    .dataframe tbody tr th {\n",
       "        vertical-align: top;\n",
       "    }\n",
       "\n",
       "    .dataframe thead th {\n",
       "        text-align: right;\n",
       "    }\n",
       "</style>\n",
       "<table border=\"1\" class=\"dataframe\">\n",
       "  <thead>\n",
       "    <tr style=\"text-align: right;\">\n",
       "      <th></th>\n",
       "      <th>Price</th>\n",
       "    </tr>\n",
       "  </thead>\n",
       "  <tbody>\n",
       "    <tr>\n",
       "      <th>count</th>\n",
       "      <td>6237.000000</td>\n",
       "    </tr>\n",
       "    <tr>\n",
       "      <th>mean</th>\n",
       "      <td>560.707516</td>\n",
       "    </tr>\n",
       "    <tr>\n",
       "      <th>std</th>\n",
       "      <td>690.110657</td>\n",
       "    </tr>\n",
       "    <tr>\n",
       "      <th>min</th>\n",
       "      <td>25.000000</td>\n",
       "    </tr>\n",
       "    <tr>\n",
       "      <th>1%</th>\n",
       "      <td>68.360000</td>\n",
       "    </tr>\n",
       "    <tr>\n",
       "      <th>2%</th>\n",
       "      <td>90.000000</td>\n",
       "    </tr>\n",
       "    <tr>\n",
       "      <th>3%</th>\n",
       "      <td>100.000000</td>\n",
       "    </tr>\n",
       "    <tr>\n",
       "      <th>4%</th>\n",
       "      <td>114.000000</td>\n",
       "    </tr>\n",
       "    <tr>\n",
       "      <th>5%</th>\n",
       "      <td>123.000000</td>\n",
       "    </tr>\n",
       "    <tr>\n",
       "      <th>10%</th>\n",
       "      <td>166.252000</td>\n",
       "    </tr>\n",
       "    <tr>\n",
       "      <th>25%</th>\n",
       "      <td>249.180000</td>\n",
       "    </tr>\n",
       "    <tr>\n",
       "      <th>50%</th>\n",
       "      <td>373.000000</td>\n",
       "    </tr>\n",
       "    <tr>\n",
       "      <th>75%</th>\n",
       "      <td>599.000000</td>\n",
       "    </tr>\n",
       "    <tr>\n",
       "      <th>90%</th>\n",
       "      <td>1088.822000</td>\n",
       "    </tr>\n",
       "    <tr>\n",
       "      <th>95%</th>\n",
       "      <td>1575.000000</td>\n",
       "    </tr>\n",
       "    <tr>\n",
       "      <th>96%</th>\n",
       "      <td>1773.800000</td>\n",
       "    </tr>\n",
       "    <tr>\n",
       "      <th>97%</th>\n",
       "      <td>1998.262800</td>\n",
       "    </tr>\n",
       "    <tr>\n",
       "      <th>98%</th>\n",
       "      <td>2503.800000</td>\n",
       "    </tr>\n",
       "    <tr>\n",
       "      <th>99%</th>\n",
       "      <td>3403.360000</td>\n",
       "    </tr>\n",
       "    <tr>\n",
       "      <th>max</th>\n",
       "      <td>14100.000000</td>\n",
       "    </tr>\n",
       "  </tbody>\n",
       "</table>\n",
       "</div>"
      ],
      "text/plain": [
       "              Price\n",
       "count   6237.000000\n",
       "mean     560.707516\n",
       "std      690.110657\n",
       "min       25.000000\n",
       "1%        68.360000\n",
       "2%        90.000000\n",
       "3%       100.000000\n",
       "4%       114.000000\n",
       "5%       123.000000\n",
       "10%      166.252000\n",
       "25%      249.180000\n",
       "50%      373.000000\n",
       "75%      599.000000\n",
       "90%     1088.822000\n",
       "95%     1575.000000\n",
       "96%     1773.800000\n",
       "97%     1998.262800\n",
       "98%     2503.800000\n",
       "99%     3403.360000\n",
       "max    14100.000000"
      ]
     },
     "execution_count": 10,
     "metadata": {},
     "output_type": "execute_result"
    }
   ],
   "source": [
    "df.describe(percentiles=[0.01, 0.02,0.03, 0.04, 0.05, 0.1, .25, .5, .75, .9, .95, .96, .97, .98, .99])"
   ]
  },
  {
   "cell_type": "code",
   "execution_count": 11,
   "id": "0b4317ab",
   "metadata": {},
   "outputs": [
    {
     "data": {
      "text/html": [
       "<div>\n",
       "<style scoped>\n",
       "    .dataframe tbody tr th:only-of-type {\n",
       "        vertical-align: middle;\n",
       "    }\n",
       "\n",
       "    .dataframe tbody tr th {\n",
       "        vertical-align: top;\n",
       "    }\n",
       "\n",
       "    .dataframe thead th {\n",
       "        text-align: right;\n",
       "    }\n",
       "</style>\n",
       "<table border=\"1\" class=\"dataframe\">\n",
       "  <thead>\n",
       "    <tr style=\"text-align: right;\">\n",
       "      <th></th>\n",
       "      <th>Title</th>\n",
       "      <th>Author</th>\n",
       "      <th>Edition</th>\n",
       "      <th>Reviews</th>\n",
       "      <th>Ratings</th>\n",
       "      <th>Synopsis</th>\n",
       "      <th>Genre</th>\n",
       "      <th>BookCategory</th>\n",
       "      <th>ind</th>\n",
       "    </tr>\n",
       "  </thead>\n",
       "  <tbody>\n",
       "    <tr>\n",
       "      <th>count</th>\n",
       "      <td>7797</td>\n",
       "      <td>7797</td>\n",
       "      <td>7797</td>\n",
       "      <td>7797</td>\n",
       "      <td>7797</td>\n",
       "      <td>7797</td>\n",
       "      <td>7797</td>\n",
       "      <td>7797</td>\n",
       "      <td>7797</td>\n",
       "    </tr>\n",
       "    <tr>\n",
       "      <th>unique</th>\n",
       "      <td>6787</td>\n",
       "      <td>4372</td>\n",
       "      <td>3882</td>\n",
       "      <td>36</td>\n",
       "      <td>368</td>\n",
       "      <td>6771</td>\n",
       "      <td>363</td>\n",
       "      <td>11</td>\n",
       "      <td>2</td>\n",
       "    </tr>\n",
       "    <tr>\n",
       "      <th>top</th>\n",
       "      <td>Innovators: How a Group of Inventors, Hackers,...</td>\n",
       "      <td>Agatha Christie</td>\n",
       "      <td>Paperback,– 5 Oct 2017</td>\n",
       "      <td>5.0 out of 5 stars</td>\n",
       "      <td>1 customer review</td>\n",
       "      <td>A Tinkle Double Digest is two Tinkle Digests i...</td>\n",
       "      <td>Action &amp; Adventure (Books)</td>\n",
       "      <td>Action &amp; Adventure</td>\n",
       "      <td>train</td>\n",
       "    </tr>\n",
       "    <tr>\n",
       "      <th>freq</th>\n",
       "      <td>4</td>\n",
       "      <td>87</td>\n",
       "      <td>60</td>\n",
       "      <td>1751</td>\n",
       "      <td>1328</td>\n",
       "      <td>8</td>\n",
       "      <td>1183</td>\n",
       "      <td>1036</td>\n",
       "      <td>6237</td>\n",
       "    </tr>\n",
       "  </tbody>\n",
       "</table>\n",
       "</div>"
      ],
      "text/plain": [
       "                                                    Title           Author  \\\n",
       "count                                                7797             7797   \n",
       "unique                                               6787             4372   \n",
       "top     Innovators: How a Group of Inventors, Hackers,...  Agatha Christie   \n",
       "freq                                                    4               87   \n",
       "\n",
       "                       Edition             Reviews            Ratings  \\\n",
       "count                     7797                7797               7797   \n",
       "unique                    3882                  36                368   \n",
       "top     Paperback,– 5 Oct 2017  5.0 out of 5 stars  1 customer review   \n",
       "freq                        60                1751               1328   \n",
       "\n",
       "                                                 Synopsis  \\\n",
       "count                                                7797   \n",
       "unique                                               6771   \n",
       "top     A Tinkle Double Digest is two Tinkle Digests i...   \n",
       "freq                                                    8   \n",
       "\n",
       "                             Genre        BookCategory    ind  \n",
       "count                         7797                7797   7797  \n",
       "unique                         363                  11      2  \n",
       "top     Action & Adventure (Books)  Action & Adventure  train  \n",
       "freq                          1183                1036   6237  "
      ]
     },
     "execution_count": 11,
     "metadata": {},
     "output_type": "execute_result"
    }
   ],
   "source": [
    "df.describe(include=object) "
   ]
  },
  {
   "cell_type": "markdown",
   "id": "d1d5337d",
   "metadata": {},
   "source": [
    "## Converting the data in Lower case"
   ]
  },
  {
   "cell_type": "code",
   "execution_count": 12,
   "id": "97ced3c6",
   "metadata": {},
   "outputs": [],
   "source": [
    "def to_lower(df,cols):\n",
    "    for col in cols:\n",
    "        df[col] = df[col].str.lower()"
   ]
  },
  {
   "cell_type": "code",
   "execution_count": 13,
   "id": "ff26be96",
   "metadata": {},
   "outputs": [],
   "source": [
    "cols = ['Title','Author','Edition','Synopsis','Genre','BookCategory']\n",
    "\n",
    "to_lower(df,cols)"
   ]
  },
  {
   "cell_type": "markdown",
   "id": "c1effcf2",
   "metadata": {},
   "source": [
    "## Null Value Treatment"
   ]
  },
  {
   "cell_type": "code",
   "execution_count": 14,
   "id": "fdb79eb1",
   "metadata": {},
   "outputs": [
    {
     "data": {
      "text/plain": [
       "Title              0\n",
       "Author             0\n",
       "Edition            0\n",
       "Reviews            0\n",
       "Ratings            0\n",
       "Synopsis           0\n",
       "Genre              0\n",
       "BookCategory       0\n",
       "ind                0\n",
       "Price           1560\n",
       "dtype: int64"
      ]
     },
     "execution_count": 14,
     "metadata": {},
     "output_type": "execute_result"
    }
   ],
   "source": [
    "df.isnull().sum()"
   ]
  },
  {
   "cell_type": "markdown",
   "id": "879fe59a",
   "metadata": {},
   "source": [
    "## Outlier Treatment"
   ]
  },
  {
   "cell_type": "code",
   "execution_count": 15,
   "id": "6c9c45c8",
   "metadata": {},
   "outputs": [],
   "source": [
    "df[\"Price\"]=np.where(df[\"Price\"]>3403.360000, 3403.360000, df[\"Price\"])"
   ]
  },
  {
   "cell_type": "code",
   "execution_count": 16,
   "id": "b3927dad",
   "metadata": {},
   "outputs": [
    {
     "data": {
      "text/html": [
       "<div>\n",
       "<style scoped>\n",
       "    .dataframe tbody tr th:only-of-type {\n",
       "        vertical-align: middle;\n",
       "    }\n",
       "\n",
       "    .dataframe tbody tr th {\n",
       "        vertical-align: top;\n",
       "    }\n",
       "\n",
       "    .dataframe thead th {\n",
       "        text-align: right;\n",
       "    }\n",
       "</style>\n",
       "<table border=\"1\" class=\"dataframe\">\n",
       "  <thead>\n",
       "    <tr style=\"text-align: right;\">\n",
       "      <th></th>\n",
       "      <th>Price</th>\n",
       "    </tr>\n",
       "  </thead>\n",
       "  <tbody>\n",
       "    <tr>\n",
       "      <th>count</th>\n",
       "      <td>6237.000000</td>\n",
       "    </tr>\n",
       "    <tr>\n",
       "      <th>mean</th>\n",
       "      <td>542.061414</td>\n",
       "    </tr>\n",
       "    <tr>\n",
       "      <th>std</th>\n",
       "      <td>533.592329</td>\n",
       "    </tr>\n",
       "    <tr>\n",
       "      <th>min</th>\n",
       "      <td>25.000000</td>\n",
       "    </tr>\n",
       "    <tr>\n",
       "      <th>25%</th>\n",
       "      <td>249.180000</td>\n",
       "    </tr>\n",
       "    <tr>\n",
       "      <th>50%</th>\n",
       "      <td>373.000000</td>\n",
       "    </tr>\n",
       "    <tr>\n",
       "      <th>75%</th>\n",
       "      <td>599.000000</td>\n",
       "    </tr>\n",
       "    <tr>\n",
       "      <th>max</th>\n",
       "      <td>3403.360000</td>\n",
       "    </tr>\n",
       "  </tbody>\n",
       "</table>\n",
       "</div>"
      ],
      "text/plain": [
       "             Price\n",
       "count  6237.000000\n",
       "mean    542.061414\n",
       "std     533.592329\n",
       "min      25.000000\n",
       "25%     249.180000\n",
       "50%     373.000000\n",
       "75%     599.000000\n",
       "max    3403.360000"
      ]
     },
     "execution_count": 16,
     "metadata": {},
     "output_type": "execute_result"
    }
   ],
   "source": [
    "df.describe()"
   ]
  },
  {
   "cell_type": "markdown",
   "id": "877f4eb2",
   "metadata": {},
   "source": [
    "## EDA"
   ]
  },
  {
   "cell_type": "code",
   "execution_count": 17,
   "id": "3b5eed1c",
   "metadata": {},
   "outputs": [],
   "source": [
    "# extrating only the review from the \"Reviews\" column\n",
    "df['Reviews'] = df.Reviews.apply(lambda r: float(r.split()[0]))"
   ]
  },
  {
   "cell_type": "code",
   "execution_count": 18,
   "id": "479e1a30",
   "metadata": {},
   "outputs": [],
   "source": [
    "# extracting only ratings from the \"Rating\" column\n",
    "df['Ratings']= df.Ratings.str.extract('(\\d+)')\n",
    "# changing the data type of Ratings column\n",
    "df[\"Ratings\"] = df.Ratings.astype(float)"
   ]
  },
  {
   "cell_type": "code",
   "execution_count": 19,
   "id": "828a175c",
   "metadata": {},
   "outputs": [],
   "source": [
    "# removing words books and textbooks from columns \"Genre\"\n",
    "df.Genre = df.Genre.apply(lambda x: x.strip('(books)').strip('Textbooks'))"
   ]
  },
  {
   "cell_type": "code",
   "execution_count": 20,
   "id": "0778ba7a",
   "metadata": {},
   "outputs": [],
   "source": [
    "# 'Extracting' year of publish from the `Edition` column\n",
    "df['Edition_Year'] = df['Edition'].apply(lambda x: x.split()[-1] if x.split()[-1].isdigit() else 'na')"
   ]
  },
  {
   "cell_type": "code",
   "execution_count": 21,
   "id": "8e870611",
   "metadata": {},
   "outputs": [
    {
     "data": {
      "text/html": [
       "<div>\n",
       "<style scoped>\n",
       "    .dataframe tbody tr th:only-of-type {\n",
       "        vertical-align: middle;\n",
       "    }\n",
       "\n",
       "    .dataframe tbody tr th {\n",
       "        vertical-align: top;\n",
       "    }\n",
       "\n",
       "    .dataframe thead th {\n",
       "        text-align: right;\n",
       "    }\n",
       "</style>\n",
       "<table border=\"1\" class=\"dataframe\">\n",
       "  <thead>\n",
       "    <tr style=\"text-align: right;\">\n",
       "      <th></th>\n",
       "      <th>Title</th>\n",
       "      <th>Author</th>\n",
       "      <th>Edition</th>\n",
       "      <th>Reviews</th>\n",
       "      <th>Ratings</th>\n",
       "      <th>Synopsis</th>\n",
       "      <th>Genre</th>\n",
       "      <th>BookCategory</th>\n",
       "      <th>ind</th>\n",
       "      <th>Price</th>\n",
       "      <th>Edition_Year</th>\n",
       "    </tr>\n",
       "  </thead>\n",
       "  <tbody>\n",
       "    <tr>\n",
       "      <th>0</th>\n",
       "      <td>the complete sherlock holmes: 2 boxes sets</td>\n",
       "      <td>sir arthur conan doyle</td>\n",
       "      <td>mass market paperback,– 1 oct 1986</td>\n",
       "      <td>4.4</td>\n",
       "      <td>960.0</td>\n",
       "      <td>a collection of entire body of work of the she...</td>\n",
       "      <td>hort stories</td>\n",
       "      <td>crime, thriller &amp; mystery</td>\n",
       "      <td>test</td>\n",
       "      <td>NaN</td>\n",
       "      <td>1986</td>\n",
       "    </tr>\n",
       "    <tr>\n",
       "      <th>1</th>\n",
       "      <td>learn docker - fundamentals of docker 18.x: ev...</td>\n",
       "      <td>gabriel n. schenker</td>\n",
       "      <td>paperback,– import, 26 apr 2018</td>\n",
       "      <td>5.0</td>\n",
       "      <td>1.0</td>\n",
       "      <td>enhance your software deployment workflow usin...</td>\n",
       "      <td>perating systems</td>\n",
       "      <td>computing, internet &amp; digital media</td>\n",
       "      <td>test</td>\n",
       "      <td>NaN</td>\n",
       "      <td>2018</td>\n",
       "    </tr>\n",
       "    <tr>\n",
       "      <th>2</th>\n",
       "      <td>big girl</td>\n",
       "      <td>danielle steel</td>\n",
       "      <td>paperback,– 17 mar 2011</td>\n",
       "      <td>5.0</td>\n",
       "      <td>4.0</td>\n",
       "      <td>'watch out, world. here i come!'\\nfor victoria...</td>\n",
       "      <td>romance</td>\n",
       "      <td>romance</td>\n",
       "      <td>test</td>\n",
       "      <td>NaN</td>\n",
       "      <td>2011</td>\n",
       "    </tr>\n",
       "    <tr>\n",
       "      <th>3</th>\n",
       "      <td>think python: how to think like a computer sci...</td>\n",
       "      <td>allen b. downey</td>\n",
       "      <td>paperback,– 2016</td>\n",
       "      <td>4.1</td>\n",
       "      <td>11.0</td>\n",
       "      <td>if you want to learn how to program, working w...</td>\n",
       "      <td>programming &amp; software development</td>\n",
       "      <td>computing, internet &amp; digital media</td>\n",
       "      <td>test</td>\n",
       "      <td>NaN</td>\n",
       "      <td>2016</td>\n",
       "    </tr>\n",
       "    <tr>\n",
       "      <th>4</th>\n",
       "      <td>oxford word skills: advanced - idioms &amp; phrasa...</td>\n",
       "      <td>redman gairns</td>\n",
       "      <td>paperback,– 26 dec 2011</td>\n",
       "      <td>4.4</td>\n",
       "      <td>9.0</td>\n",
       "      <td>learn and practise the verbs, prepositions and...</td>\n",
       "      <td>linguistics</td>\n",
       "      <td>language, linguistics &amp; writing</td>\n",
       "      <td>test</td>\n",
       "      <td>NaN</td>\n",
       "      <td>2011</td>\n",
       "    </tr>\n",
       "  </tbody>\n",
       "</table>\n",
       "</div>"
      ],
      "text/plain": [
       "                                               Title                  Author  \\\n",
       "0         the complete sherlock holmes: 2 boxes sets  sir arthur conan doyle   \n",
       "1  learn docker - fundamentals of docker 18.x: ev...     gabriel n. schenker   \n",
       "2                                           big girl          danielle steel   \n",
       "3  think python: how to think like a computer sci...         allen b. downey   \n",
       "4  oxford word skills: advanced - idioms & phrasa...           redman gairns   \n",
       "\n",
       "                              Edition  Reviews  Ratings  \\\n",
       "0  mass market paperback,– 1 oct 1986      4.4    960.0   \n",
       "1     paperback,– import, 26 apr 2018      5.0      1.0   \n",
       "2             paperback,– 17 mar 2011      5.0      4.0   \n",
       "3                    paperback,– 2016      4.1     11.0   \n",
       "4             paperback,– 26 dec 2011      4.4      9.0   \n",
       "\n",
       "                                            Synopsis  \\\n",
       "0  a collection of entire body of work of the she...   \n",
       "1  enhance your software deployment workflow usin...   \n",
       "2  'watch out, world. here i come!'\\nfor victoria...   \n",
       "3  if you want to learn how to program, working w...   \n",
       "4  learn and practise the verbs, prepositions and...   \n",
       "\n",
       "                                 Genre                         BookCategory  \\\n",
       "0                        hort stories             crime, thriller & mystery   \n",
       "1                    perating systems   computing, internet & digital media   \n",
       "2                             romance                               romance   \n",
       "3  programming & software development   computing, internet & digital media   \n",
       "4                         linguistics       language, linguistics & writing   \n",
       "\n",
       "    ind  Price Edition_Year  \n",
       "0  test    NaN         1986  \n",
       "1  test    NaN         2018  \n",
       "2  test    NaN         2011  \n",
       "3  test    NaN         2016  \n",
       "4  test    NaN         2011  "
      ]
     },
     "execution_count": 21,
     "metadata": {},
     "output_type": "execute_result"
    }
   ],
   "source": [
    "df.head()"
   ]
  },
  {
   "cell_type": "code",
   "execution_count": 22,
   "id": "ce7b4e5c",
   "metadata": {},
   "outputs": [
    {
     "name": "stdout",
     "output_type": "stream",
     "text": [
      "['Title', 'Author', 'Edition', 'Synopsis', 'Genre', 'BookCategory', 'ind', 'Edition_Year']\n",
      "['Reviews', 'Ratings', 'Price']\n"
     ]
    }
   ],
   "source": [
    "cat_cols = df.select_dtypes(include=['object','category']).columns.tolist()\n",
    "print(cat_cols)\n",
    "\n",
    "num_cols = df.select_dtypes(include=['int64','float64']).columns.tolist()\n",
    "print(num_cols)"
   ]
  },
  {
   "cell_type": "markdown",
   "id": "b5709145",
   "metadata": {},
   "source": [
    "## Applying PowerTransformation"
   ]
  },
  {
   "cell_type": "code",
   "execution_count": 23,
   "id": "b7f7e3ad",
   "metadata": {},
   "outputs": [],
   "source": [
    "from sklearn.preprocessing import PowerTransformer"
   ]
  },
  {
   "cell_type": "code",
   "execution_count": 24,
   "id": "b9ab48f2",
   "metadata": {},
   "outputs": [],
   "source": [
    "power = PowerTransformer()"
   ]
  },
  {
   "cell_type": "code",
   "execution_count": 25,
   "id": "023200af",
   "metadata": {},
   "outputs": [],
   "source": [
    "df[['Reviews']] = power.fit_transform(df[['Reviews']])\n",
    "df[['Ratings']] = power.fit_transform(df[['Ratings']])\n",
    "df[['Price']] = power.fit_transform(df[['Price']])"
   ]
  },
  {
   "cell_type": "code",
   "execution_count": 26,
   "id": "e5247d23",
   "metadata": {},
   "outputs": [
    {
     "data": {
      "text/html": [
       "<div>\n",
       "<style scoped>\n",
       "    .dataframe tbody tr th:only-of-type {\n",
       "        vertical-align: middle;\n",
       "    }\n",
       "\n",
       "    .dataframe tbody tr th {\n",
       "        vertical-align: top;\n",
       "    }\n",
       "\n",
       "    .dataframe thead th {\n",
       "        text-align: right;\n",
       "    }\n",
       "</style>\n",
       "<table border=\"1\" class=\"dataframe\">\n",
       "  <thead>\n",
       "    <tr style=\"text-align: right;\">\n",
       "      <th></th>\n",
       "      <th>Title</th>\n",
       "      <th>Author</th>\n",
       "      <th>Edition</th>\n",
       "      <th>Synopsis</th>\n",
       "      <th>Genre</th>\n",
       "      <th>BookCategory</th>\n",
       "      <th>ind</th>\n",
       "      <th>Edition_Year</th>\n",
       "    </tr>\n",
       "  </thead>\n",
       "  <tbody>\n",
       "    <tr>\n",
       "      <th>count</th>\n",
       "      <td>7797</td>\n",
       "      <td>7797</td>\n",
       "      <td>7797</td>\n",
       "      <td>7797</td>\n",
       "      <td>7797</td>\n",
       "      <td>7797</td>\n",
       "      <td>7797</td>\n",
       "      <td>7797</td>\n",
       "    </tr>\n",
       "    <tr>\n",
       "      <th>unique</th>\n",
       "      <td>6782</td>\n",
       "      <td>4359</td>\n",
       "      <td>3882</td>\n",
       "      <td>6770</td>\n",
       "      <td>359</td>\n",
       "      <td>11</td>\n",
       "      <td>2</td>\n",
       "      <td>59</td>\n",
       "    </tr>\n",
       "    <tr>\n",
       "      <th>top</th>\n",
       "      <td>innovators: how a group of inventors, hackers,...</td>\n",
       "      <td>agatha christie</td>\n",
       "      <td>paperback,– 5 oct 2017</td>\n",
       "      <td>a tinkle double digest is two tinkle digests i...</td>\n",
       "      <td>action &amp; adventure</td>\n",
       "      <td>action &amp; adventure</td>\n",
       "      <td>train</td>\n",
       "      <td>2018</td>\n",
       "    </tr>\n",
       "    <tr>\n",
       "      <th>freq</th>\n",
       "      <td>4</td>\n",
       "      <td>87</td>\n",
       "      <td>60</td>\n",
       "      <td>8</td>\n",
       "      <td>1183</td>\n",
       "      <td>1036</td>\n",
       "      <td>6237</td>\n",
       "      <td>1018</td>\n",
       "    </tr>\n",
       "  </tbody>\n",
       "</table>\n",
       "</div>"
      ],
      "text/plain": [
       "                                                    Title           Author  \\\n",
       "count                                                7797             7797   \n",
       "unique                                               6782             4359   \n",
       "top     innovators: how a group of inventors, hackers,...  agatha christie   \n",
       "freq                                                    4               87   \n",
       "\n",
       "                       Edition  \\\n",
       "count                     7797   \n",
       "unique                    3882   \n",
       "top     paperback,– 5 oct 2017   \n",
       "freq                        60   \n",
       "\n",
       "                                                 Synopsis  \\\n",
       "count                                                7797   \n",
       "unique                                               6770   \n",
       "top     a tinkle double digest is two tinkle digests i...   \n",
       "freq                                                    8   \n",
       "\n",
       "                      Genre        BookCategory    ind Edition_Year  \n",
       "count                  7797                7797   7797         7797  \n",
       "unique                  359                  11      2           59  \n",
       "top     action & adventure   action & adventure  train         2018  \n",
       "freq                   1183                1036   6237         1018  "
      ]
     },
     "execution_count": 26,
     "metadata": {},
     "output_type": "execute_result"
    }
   ],
   "source": [
    "df.describe(include=\"object\")"
   ]
  },
  {
   "cell_type": "markdown",
   "id": "9d32bc8a",
   "metadata": {},
   "source": [
    "### Since, it is impossible to make dummies of columns with so many unique values, we will remove all the columns which are not required for builing the model and will only create dummy for \"Book_Category\""
   ]
  },
  {
   "cell_type": "code",
   "execution_count": 27,
   "id": "5cb13675",
   "metadata": {},
   "outputs": [
    {
     "data": {
      "text/html": [
       "<div>\n",
       "<style scoped>\n",
       "    .dataframe tbody tr th:only-of-type {\n",
       "        vertical-align: middle;\n",
       "    }\n",
       "\n",
       "    .dataframe tbody tr th {\n",
       "        vertical-align: top;\n",
       "    }\n",
       "\n",
       "    .dataframe thead th {\n",
       "        text-align: right;\n",
       "    }\n",
       "</style>\n",
       "<table border=\"1\" class=\"dataframe\">\n",
       "  <thead>\n",
       "    <tr style=\"text-align: right;\">\n",
       "      <th></th>\n",
       "      <th>Author</th>\n",
       "      <th>Reviews</th>\n",
       "      <th>Ratings</th>\n",
       "      <th>Genre</th>\n",
       "      <th>BookCategory</th>\n",
       "      <th>ind</th>\n",
       "      <th>Price</th>\n",
       "      <th>Edition_Year</th>\n",
       "    </tr>\n",
       "  </thead>\n",
       "  <tbody>\n",
       "    <tr>\n",
       "      <th>0</th>\n",
       "      <td>sir arthur conan doyle</td>\n",
       "      <td>-0.011370</td>\n",
       "      <td>2.225157</td>\n",
       "      <td>hort stories</td>\n",
       "      <td>crime, thriller &amp; mystery</td>\n",
       "      <td>test</td>\n",
       "      <td>NaN</td>\n",
       "      <td>1986</td>\n",
       "    </tr>\n",
       "    <tr>\n",
       "      <th>1</th>\n",
       "      <td>gabriel n. schenker</td>\n",
       "      <td>1.350579</td>\n",
       "      <td>-1.414916</td>\n",
       "      <td>perating systems</td>\n",
       "      <td>computing, internet &amp; digital media</td>\n",
       "      <td>test</td>\n",
       "      <td>NaN</td>\n",
       "      <td>2018</td>\n",
       "    </tr>\n",
       "    <tr>\n",
       "      <th>2</th>\n",
       "      <td>danielle steel</td>\n",
       "      <td>1.350579</td>\n",
       "      <td>-0.370980</td>\n",
       "      <td>romance</td>\n",
       "      <td>romance</td>\n",
       "      <td>test</td>\n",
       "      <td>NaN</td>\n",
       "      <td>2011</td>\n",
       "    </tr>\n",
       "    <tr>\n",
       "      <th>3</th>\n",
       "      <td>allen b. downey</td>\n",
       "      <td>-0.537118</td>\n",
       "      <td>0.388788</td>\n",
       "      <td>programming &amp; software development</td>\n",
       "      <td>computing, internet &amp; digital media</td>\n",
       "      <td>test</td>\n",
       "      <td>NaN</td>\n",
       "      <td>2016</td>\n",
       "    </tr>\n",
       "    <tr>\n",
       "      <th>4</th>\n",
       "      <td>redman gairns</td>\n",
       "      <td>-0.011370</td>\n",
       "      <td>0.246759</td>\n",
       "      <td>linguistics</td>\n",
       "      <td>language, linguistics &amp; writing</td>\n",
       "      <td>test</td>\n",
       "      <td>NaN</td>\n",
       "      <td>2011</td>\n",
       "    </tr>\n",
       "    <tr>\n",
       "      <th>...</th>\n",
       "      <td>...</td>\n",
       "      <td>...</td>\n",
       "      <td>...</td>\n",
       "      <td>...</td>\n",
       "      <td>...</td>\n",
       "      <td>...</td>\n",
       "      <td>...</td>\n",
       "      <td>...</td>\n",
       "    </tr>\n",
       "    <tr>\n",
       "      <th>6232</th>\n",
       "      <td>tom phillips</td>\n",
       "      <td>1.350579</td>\n",
       "      <td>-0.917026</td>\n",
       "      <td>anthropology</td>\n",
       "      <td>humour</td>\n",
       "      <td>train</td>\n",
       "      <td>-0.245632</td>\n",
       "      <td>2018</td>\n",
       "    </tr>\n",
       "    <tr>\n",
       "      <th>6233</th>\n",
       "      <td>stephenie meyer</td>\n",
       "      <td>-1.536830</td>\n",
       "      <td>0.246759</td>\n",
       "      <td>contemporary fiction</td>\n",
       "      <td>crime, thriller &amp; mystery</td>\n",
       "      <td>train</td>\n",
       "      <td>0.115748</td>\n",
       "      <td>2016</td>\n",
       "    </tr>\n",
       "    <tr>\n",
       "      <th>6234</th>\n",
       "      <td>julia quinn</td>\n",
       "      <td>-0.974748</td>\n",
       "      <td>-0.599135</td>\n",
       "      <td>romance</td>\n",
       "      <td>romance</td>\n",
       "      <td>train</td>\n",
       "      <td>0.044242</td>\n",
       "      <td>2006</td>\n",
       "    </tr>\n",
       "    <tr>\n",
       "      <th>6235</th>\n",
       "      <td>amanda hocking</td>\n",
       "      <td>-1.334879</td>\n",
       "      <td>-0.370980</td>\n",
       "      <td>action &amp; adventure</td>\n",
       "      <td>action &amp; adventure</td>\n",
       "      <td>train</td>\n",
       "      <td>-0.258442</td>\n",
       "      <td>2015</td>\n",
       "    </tr>\n",
       "    <tr>\n",
       "      <th>6236</th>\n",
       "      <td>jeff abbott</td>\n",
       "      <td>-0.837992</td>\n",
       "      <td>-0.917026</td>\n",
       "      <td>action &amp; adventure</td>\n",
       "      <td>action &amp; adventure</td>\n",
       "      <td>train</td>\n",
       "      <td>0.209763</td>\n",
       "      <td>2016</td>\n",
       "    </tr>\n",
       "  </tbody>\n",
       "</table>\n",
       "<p>7797 rows × 8 columns</p>\n",
       "</div>"
      ],
      "text/plain": [
       "                      Author   Reviews   Ratings  \\\n",
       "0     sir arthur conan doyle -0.011370  2.225157   \n",
       "1        gabriel n. schenker  1.350579 -1.414916   \n",
       "2             danielle steel  1.350579 -0.370980   \n",
       "3            allen b. downey -0.537118  0.388788   \n",
       "4              redman gairns -0.011370  0.246759   \n",
       "...                      ...       ...       ...   \n",
       "6232            tom phillips  1.350579 -0.917026   \n",
       "6233         stephenie meyer -1.536830  0.246759   \n",
       "6234             julia quinn -0.974748 -0.599135   \n",
       "6235          amanda hocking -1.334879 -0.370980   \n",
       "6236             jeff abbott -0.837992 -0.917026   \n",
       "\n",
       "                                    Genre  \\\n",
       "0                           hort stories    \n",
       "1                       perating systems    \n",
       "2                                romance    \n",
       "3     programming & software development    \n",
       "4                            linguistics    \n",
       "...                                   ...   \n",
       "6232                        anthropology    \n",
       "6233                contemporary fiction    \n",
       "6234                             romance    \n",
       "6235                  action & adventure    \n",
       "6236                  action & adventure    \n",
       "\n",
       "                             BookCategory    ind     Price Edition_Year  \n",
       "0               crime, thriller & mystery   test       NaN         1986  \n",
       "1     computing, internet & digital media   test       NaN         2018  \n",
       "2                                 romance   test       NaN         2011  \n",
       "3     computing, internet & digital media   test       NaN         2016  \n",
       "4         language, linguistics & writing   test       NaN         2011  \n",
       "...                                   ...    ...       ...          ...  \n",
       "6232                               humour  train -0.245632         2018  \n",
       "6233            crime, thriller & mystery  train  0.115748         2016  \n",
       "6234                              romance  train  0.044242         2006  \n",
       "6235                   action & adventure  train -0.258442         2015  \n",
       "6236                   action & adventure  train  0.209763         2016  \n",
       "\n",
       "[7797 rows x 8 columns]"
      ]
     },
     "execution_count": 27,
     "metadata": {},
     "output_type": "execute_result"
    }
   ],
   "source": [
    "df.drop(columns=['Edition','Synopsis','Title'],inplace=True)\n",
    "df"
   ]
  },
  {
   "cell_type": "code",
   "execution_count": 28,
   "id": "37d7d4f3",
   "metadata": {},
   "outputs": [],
   "source": [
    "df = df.astype({'Author':'category','Genre':'category','BookCategory':'category','Edition_Year':'category'})"
   ]
  },
  {
   "cell_type": "code",
   "execution_count": 29,
   "id": "58768bc6",
   "metadata": {},
   "outputs": [
    {
     "name": "stdout",
     "output_type": "stream",
     "text": [
      "<class 'pandas.core.frame.DataFrame'>\n",
      "Int64Index: 7797 entries, 0 to 6236\n",
      "Data columns (total 8 columns):\n",
      " #   Column        Non-Null Count  Dtype   \n",
      "---  ------        --------------  -----   \n",
      " 0   Author        7797 non-null   category\n",
      " 1   Reviews       7797 non-null   float64 \n",
      " 2   Ratings       7797 non-null   float64 \n",
      " 3   Genre         7797 non-null   category\n",
      " 4   BookCategory  7797 non-null   category\n",
      " 5   ind           7797 non-null   object  \n",
      " 6   Price         6237 non-null   float64 \n",
      " 7   Edition_Year  7797 non-null   category\n",
      "dtypes: category(4), float64(3), object(1)\n",
      "memory usage: 527.2+ KB\n"
     ]
    }
   ],
   "source": [
    "df.info()"
   ]
  },
  {
   "cell_type": "markdown",
   "id": "61fbde0c",
   "metadata": {},
   "source": [
    "## Label Encoding"
   ]
  },
  {
   "cell_type": "code",
   "execution_count": 30,
   "id": "bd571e7d",
   "metadata": {},
   "outputs": [],
   "source": [
    "from sklearn.preprocessing import LabelEncoder\n",
    "\n",
    "le = LabelEncoder()"
   ]
  },
  {
   "cell_type": "code",
   "execution_count": 31,
   "id": "f280fbf2",
   "metadata": {},
   "outputs": [],
   "source": [
    "cols_toEncode = ['Author','Genre','BookCategory','Edition_Year']"
   ]
  },
  {
   "cell_type": "code",
   "execution_count": 32,
   "id": "72500c43",
   "metadata": {},
   "outputs": [],
   "source": [
    "df['Author'] = le.fit_transform(df['Author'])"
   ]
  },
  {
   "cell_type": "code",
   "execution_count": 33,
   "id": "e4500de1",
   "metadata": {},
   "outputs": [],
   "source": [
    "df['Genre'] = le.fit_transform(df['Genre'])"
   ]
  },
  {
   "cell_type": "code",
   "execution_count": 34,
   "id": "359d5675",
   "metadata": {},
   "outputs": [],
   "source": [
    "df['BookCategory'] = le.fit_transform(df['BookCategory'])"
   ]
  },
  {
   "cell_type": "code",
   "execution_count": 35,
   "id": "c1aa5810",
   "metadata": {},
   "outputs": [],
   "source": [
    "df['Edition_Year'] = le.fit_transform(df['Edition_Year'])"
   ]
  },
  {
   "cell_type": "code",
   "execution_count": 36,
   "id": "6fa8a8fc",
   "metadata": {},
   "outputs": [
    {
     "name": "stdout",
     "output_type": "stream",
     "text": [
      "<class 'pandas.core.frame.DataFrame'>\n",
      "Int64Index: 7797 entries, 0 to 6236\n",
      "Data columns (total 8 columns):\n",
      " #   Column        Non-Null Count  Dtype  \n",
      "---  ------        --------------  -----  \n",
      " 0   Author        7797 non-null   int32  \n",
      " 1   Reviews       7797 non-null   float64\n",
      " 2   Ratings       7797 non-null   float64\n",
      " 3   Genre         7797 non-null   int32  \n",
      " 4   BookCategory  7797 non-null   int32  \n",
      " 5   ind           7797 non-null   object \n",
      " 6   Price         6237 non-null   float64\n",
      " 7   Edition_Year  7797 non-null   int32  \n",
      "dtypes: float64(3), int32(4), object(1)\n",
      "memory usage: 426.4+ KB\n"
     ]
    }
   ],
   "source": [
    "df.info()"
   ]
  },
  {
   "cell_type": "markdown",
   "id": "77e9cb39",
   "metadata": {},
   "source": [
    "## Train-Test Split"
   ]
  },
  {
   "cell_type": "code",
   "execution_count": 37,
   "id": "5b9d76e0",
   "metadata": {},
   "outputs": [],
   "source": [
    "test, train = df[df[\"ind\"].eq(\"test\")], df[df[\"ind\"].eq(\"train\")]"
   ]
  },
  {
   "cell_type": "code",
   "execution_count": 38,
   "id": "1246c1cf",
   "metadata": {},
   "outputs": [],
   "source": [
    "train.drop(\"ind\", axis=1, inplace=True)"
   ]
  },
  {
   "cell_type": "code",
   "execution_count": 39,
   "id": "f4ac7da8",
   "metadata": {},
   "outputs": [],
   "source": [
    "test.drop(\"ind\", axis=1, inplace=True)"
   ]
  },
  {
   "cell_type": "code",
   "execution_count": 40,
   "id": "44dd15ab",
   "metadata": {},
   "outputs": [
    {
     "data": {
      "text/plain": [
       "(6237, 7)"
      ]
     },
     "execution_count": 40,
     "metadata": {},
     "output_type": "execute_result"
    }
   ],
   "source": [
    "train.shape"
   ]
  },
  {
   "cell_type": "code",
   "execution_count": 41,
   "id": "a3d2df82",
   "metadata": {},
   "outputs": [],
   "source": [
    "test.drop(\"Price\", axis=1, inplace=True)"
   ]
  },
  {
   "cell_type": "code",
   "execution_count": 42,
   "id": "55e2a47c",
   "metadata": {},
   "outputs": [
    {
     "data": {
      "text/plain": [
       "(1560, 6)"
      ]
     },
     "execution_count": 42,
     "metadata": {},
     "output_type": "execute_result"
    }
   ],
   "source": [
    "test.shape"
   ]
  },
  {
   "cell_type": "markdown",
   "id": "62030c13",
   "metadata": {},
   "source": [
    "## Model Building - LightGBM"
   ]
  },
  {
   "cell_type": "markdown",
   "id": "f988b60c",
   "metadata": {},
   "source": [
    "LightGBM is a gradient boosting framework that uses tree based learning algorithms. It is designed to be distributed and efficient with the following advantages:\n",
    "\n",
    "    - Faster training speed and higher efficiency.\n",
    "    - Lower memory usage.\n",
    "    - Better accuracy.\n",
    "    - Support of parallel and GPU learning.\n",
    "    - Capable of handling large-scale data."
   ]
  },
  {
   "cell_type": "code",
   "execution_count": 43,
   "id": "6bd2ea04",
   "metadata": {},
   "outputs": [],
   "source": [
    "y_train = train.pop('Price')\n",
    "X_train = train"
   ]
  },
  {
   "cell_type": "code",
   "execution_count": 44,
   "id": "9256e06e",
   "metadata": {},
   "outputs": [],
   "source": [
    "import lightgbm as lgb"
   ]
  },
  {
   "cell_type": "code",
   "execution_count": 45,
   "id": "dc0ec2fc",
   "metadata": {},
   "outputs": [],
   "source": [
    "#convert the dataset to lgbDataset\n",
    "df_train = lgb.Dataset(X_train,y_train)"
   ]
  },
  {
   "cell_type": "code",
   "execution_count": 46,
   "id": "067427df",
   "metadata": {},
   "outputs": [],
   "source": [
    "hyper_params = {\n",
    "    'task': 'train',\n",
    "    'boosting_type': 'gbdt',\n",
    "    'objective': 'regression',\n",
    "    'metric': ['l1', 'auc'],\n",
    "    'learning_rate': 1,\n",
    "    'categorical_feature':[0,3,4,5],\n",
    "    'num_iterations':10000\n",
    "}"
   ]
  },
  {
   "cell_type": "code",
   "execution_count": 47,
   "id": "edf16c74",
   "metadata": {},
   "outputs": [],
   "source": [
    "rg = lgb.LGBMRegressor(**hyper_params)"
   ]
  },
  {
   "cell_type": "code",
   "execution_count": 48,
   "id": "f47047fe",
   "metadata": {},
   "outputs": [
    {
     "data": {
      "text/plain": [
       "LGBMRegressor(categorical_feature=[0, 3, 4, 5], learning_rate=1,\n",
       "              metric=['l1', 'auc'], num_iterations=10000,\n",
       "              objective='regression', task='train')"
      ]
     },
     "execution_count": 48,
     "metadata": {},
     "output_type": "execute_result"
    }
   ],
   "source": [
    "rg.fit(X_train,y_train)"
   ]
  },
  {
   "cell_type": "code",
   "execution_count": 49,
   "id": "9dff74df",
   "metadata": {},
   "outputs": [],
   "source": [
    "y_pred_train = rg.predict(X_train)"
   ]
  },
  {
   "cell_type": "code",
   "execution_count": 50,
   "id": "6aa89a6a",
   "metadata": {},
   "outputs": [],
   "source": [
    "from sklearn.metrics import accuracy_score,mean_squared_error,r2_score"
   ]
  },
  {
   "cell_type": "code",
   "execution_count": 51,
   "id": "5cb04357",
   "metadata": {},
   "outputs": [
    {
     "data": {
      "text/plain": [
       "array([-0.77754367, -0.89314967, -0.34740639, ...,  0.0442417 ,\n",
       "       -0.2584422 , -0.39300204])"
      ]
     },
     "execution_count": 51,
     "metadata": {},
     "output_type": "execute_result"
    }
   ],
   "source": [
    "y_pred_train"
   ]
  },
  {
   "cell_type": "code",
   "execution_count": 52,
   "id": "39db48f0",
   "metadata": {},
   "outputs": [
    {
     "name": "stdout",
     "output_type": "stream",
     "text": [
      "Train MSE: 0.17046944357729923\n"
     ]
    }
   ],
   "source": [
    "print(\"Train MSE:\",np.sqrt(mean_squared_error(y_train,y_pred_train))) "
   ]
  },
  {
   "cell_type": "code",
   "execution_count": 53,
   "id": "5950c86d",
   "metadata": {},
   "outputs": [
    {
     "name": "stdout",
     "output_type": "stream",
     "text": [
      "Train r2_score: 0.970940168806446\n"
     ]
    }
   ],
   "source": [
    "print(\"Train r2_score:\",r2_score(y_train, y_pred_train))"
   ]
  },
  {
   "cell_type": "code",
   "execution_count": 54,
   "id": "bc90f06d",
   "metadata": {},
   "outputs": [],
   "source": [
    "y_test_pred = rg.predict(test)"
   ]
  },
  {
   "cell_type": "code",
   "execution_count": 55,
   "id": "e118cd89",
   "metadata": {},
   "outputs": [],
   "source": [
    "y_test_pred = pd.DataFrame(y_test_pred,columns=['Price'])"
   ]
  },
  {
   "cell_type": "code",
   "execution_count": 56,
   "id": "339f8d0e",
   "metadata": {},
   "outputs": [],
   "source": [
    "predictions = power.inverse_transform(y_test_pred[['Price']])"
   ]
  },
  {
   "cell_type": "code",
   "execution_count": 57,
   "id": "68db10e6",
   "metadata": {},
   "outputs": [],
   "source": [
    "pd.DataFrame(predictions,columns=['Price']).to_csv('my_submission_1.csv',index=None)"
   ]
  }
 ],
 "metadata": {
  "kernelspec": {
   "display_name": "Python 3",
   "language": "python",
   "name": "python3"
  },
  "language_info": {
   "codemirror_mode": {
    "name": "ipython",
    "version": 3
   },
   "file_extension": ".py",
   "mimetype": "text/x-python",
   "name": "python",
   "nbconvert_exporter": "python",
   "pygments_lexer": "ipython3",
   "version": "3.8.8"
  }
 },
 "nbformat": 4,
 "nbformat_minor": 5
}
